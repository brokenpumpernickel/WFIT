{
 "cells": [
  {
   "cell_type": "code",
   "execution_count": 1,
   "metadata": {
    "slideshow": {
     "slide_type": "skip"
    }
   },
   "outputs": [],
   "source": [
    "import matplotlib.pyplot as plt\n",
    "import numpy as np\n",
    "import numpy.linalg as la\n",
    "import scipy.integrate as integ\n",
    "import ipywidgets as widgets"
   ]
  },
  {
   "cell_type": "markdown",
   "metadata": {
    "slideshow": {
     "slide_type": "slide"
    }
   },
   "source": [
    "# Pomocnicze materiały do prędkości i przyspieszenia\n",
    "\n",
    "Uwaga: ponieważ część nazw zmiennych użytych w przykładach pokrywa się, każdą komórkę należy wykonać przed użyciem interaktywnych wykresów."
   ]
  },
  {
   "cell_type": "markdown",
   "metadata": {},
   "source": [
    "# Prędkość chwilowa\n",
    "\n",
    "Poniższy przykład obrazuje koncepcję prędkości chwilowej."
   ]
  },
  {
   "cell_type": "code",
   "execution_count": 2,
   "metadata": {},
   "outputs": [
    {
     "data": {
      "application/vnd.jupyter.widget-view+json": {
       "model_id": "5928bc6d232d4c368e1606475fb1b704",
       "version_major": 2,
       "version_minor": 0
      },
      "text/plain": [
       "interactive(children=(IntSlider(value=2, description='n', min=2), Output()), _dom_classes=('widget-interact',)…"
      ]
     },
     "metadata": {},
     "output_type": "display_data"
    },
    {
     "data": {
      "text/plain": [
       "<function __main__.xfun(n)>"
      ]
     },
     "execution_count": 2,
     "metadata": {},
     "output_type": "execute_result"
    }
   ],
   "source": [
    "n = 5\n",
    "t = np.linspace(0, 10, 100)\n",
    "x = np.sin(t) + t**3 / 1000\n",
    "v = np.cos(t) + 3 * t**2 / 1000\n",
    "\n",
    "\n",
    "def xfun(n):\n",
    "    tn = np.linspace(0, 10, n + 1)\n",
    "    xn = np.sin(tn) + tn**3 / 1000\n",
    "    vn = (np.roll(xn, -1) - xn) / (np.roll(tn, -1) - tn)\n",
    "    vn[-1] = vn[-2]\n",
    "\n",
    "    plt.figure(figsize = (20, 20))\n",
    "    \n",
    "    plt.subplot(211)\n",
    "    plt.plot(t, x)\n",
    "    plt.plot(tn, xn, 'r-')\n",
    "    plt.xlabel('t')\n",
    "    plt.ylabel('x')\n",
    "    plt.grid(linestyle = '--')\n",
    "    \n",
    "    plt.subplot(212)\n",
    "    plt.plot(t, v)\n",
    "    plt.step(tn, vn, 'r-', where = 'post')\n",
    "    plt.xlabel('t')\n",
    "    plt.ylabel('v')\n",
    "    plt.grid(linestyle = '--')    \n",
    "    \n",
    "widgets.interact(xfun, n = widgets.IntSlider(min=2, max=100, step=1, value=2))"
   ]
  },
  {
   "cell_type": "markdown",
   "metadata": {},
   "source": [
    "# Przyspieszenia styczne i normalne - rzut ukośny\n",
    "\n",
    "Przyspieszenia styczne i normalne dla rzutu ukośnego. Styczne wyraża się wzorem\n",
    "\n",
    "$$a_s = \\frac{dv}{dt},$$\n",
    "\n",
    "gdzie $v$ to wartość (długość) wektora prędkości. Przyspieszenie normalne można natomiast wyznaczyć korzystając z zależnośći\n",
    "\n",
    "$$a_n^2 = a^2 - a_s^2,$$\n",
    "\n",
    "gdzie $a$ to wartość przyspieszenia całkowitego."
   ]
  },
  {
   "cell_type": "code",
   "execution_count": 2,
   "metadata": {},
   "outputs": [
    {
     "data": {
      "application/vnd.jupyter.widget-view+json": {
       "model_id": "0c4a9d03d22243c38ad5d844b593287c",
       "version_major": 2,
       "version_minor": 0
      },
      "text/plain": [
       "interactive(children=(IntSlider(value=0, description='i', max=99), Checkbox(value=False, description='Skalowan…"
      ]
     },
     "metadata": {},
     "output_type": "display_data"
    },
    {
     "data": {
      "text/plain": [
       "<function __main__.plot(i, scale)>"
      ]
     },
     "execution_count": 2,
     "metadata": {},
     "output_type": "execute_result"
    }
   ],
   "source": [
    "t, dt = np.linspace(0, 2, 101, retstep = True)\n",
    "g = 9.81\n",
    "\n",
    "def field(y, t):\n",
    "    x, vx, y, vy = y\n",
    "    return vx, 0, vy, -g\n",
    "\n",
    "res = integ.odeint(field, (0, 10, 0, 10), t)\n",
    "x, vx, y, vy = res[:, 0], res[:, 1], res[:, 2], res[:, 3]\n",
    "\n",
    "def plot(i, scale):\n",
    "    fig, ax = plt.subplots()\n",
    "    fig.set_size_inches((20, 10))\n",
    "    ax.set_aspect(1)\n",
    "    ax.grid(linestyle = '--')\n",
    "    ax.plot(x, y, linewidth = 2)\n",
    "    ax.set_ylim((0, 10))\n",
    "    ax.set_xlim((0, 20))\n",
    "    \n",
    "    v = np.array([vx[i], vy[i]])\n",
    "    v /= la.norm(v)\n",
    "    \n",
    "    vv = np.array([vx[i + 1], vy[i + 1]])\n",
    "    vv /= la.norm(vv)\n",
    "    \n",
    "    nrm = vv - v\n",
    "    nrm /= la.norm(nrm)\n",
    "    \n",
    "    if scale:\n",
    "        a = np.array([0, -g])\n",
    "        a *= (3 / g)\n",
    "        atan = np.dot(a, v)\n",
    "        anor = np.dot(a, nrm)\n",
    "        v *= atan\n",
    "        nrm *= anor\n",
    "        ax.arrow(x[i], y[i], 0, -3, width = 0.15, color = 'blue', zorder = 2)\n",
    "    \n",
    "    ax.arrow(x[i], y[i], v[0], v[1], width = 0.15, color = 'red', zorder = 2)\n",
    "    ax.arrow(x[i], y[i], nrm[0], nrm[1], width = 0.15, color = 'red', zorder = 2)\n",
    "    ax.plot([x[i]], [y[i]], 'bo', zorder = 3, ms = 10)\n",
    "    \n",
    "widgets.interact(plot, i = widgets.IntSlider(min=0, max=99, step=1, value=0),\n",
    "                scale = widgets.Checkbox(value = False, description = \"Skalowanie\"))"
   ]
  },
  {
   "cell_type": "markdown",
   "metadata": {},
   "source": [
    "# Przyspieszenia radialne i transwersalne - rzut ukośny\n",
    "\n",
    "Przyspieszenie radialne wyraża się wzorem\n",
    "\n",
    "$$a_r = \\ddot{r} - r\\dot{\\phi}^2.$$\n",
    "\n",
    "Przyspieszenie transwersalne można natomiast wyznaczyć korzystając z zależnośći\n",
    "\n",
    "$$a_\\phi = 2\\dot{r}\\dot{\\phi} + r\\ddot{\\phi}.$$"
   ]
  },
  {
   "cell_type": "code",
   "execution_count": 3,
   "metadata": {},
   "outputs": [
    {
     "data": {
      "application/vnd.jupyter.widget-view+json": {
       "model_id": "5efbedc9df4b4287b5a82db58a508851",
       "version_major": 2,
       "version_minor": 0
      },
      "text/plain": [
       "interactive(children=(IntSlider(value=1, description='i', max=99, min=1), Checkbox(value=False, description='S…"
      ]
     },
     "metadata": {},
     "output_type": "display_data"
    },
    {
     "data": {
      "text/plain": [
       "<function __main__.plot(i, scale)>"
      ]
     },
     "execution_count": 3,
     "metadata": {},
     "output_type": "execute_result"
    }
   ],
   "source": [
    "t, dt = np.linspace(0, 2, 101, retstep = True)\n",
    "g = 9.81\n",
    "\n",
    "def field(y, t):\n",
    "    x, vx, y, vy = y\n",
    "    return vx, 0, vy, -g\n",
    "\n",
    "res = integ.odeint(field, (0, 10, 0, 10), t)\n",
    "x, vx, y, vy = res[:, 0], res[:, 1], res[:, 2], res[:, 3]\n",
    "\n",
    "def plot(i, scale):\n",
    "    fig, ax = plt.subplots()\n",
    "    fig.set_size_inches((20, 10))\n",
    "    ax.set_aspect(1)\n",
    "    ax.grid(linestyle = '--')\n",
    "    ax.plot(x, y, linewidth = 2)\n",
    "    ax.set_ylim((0, 10))\n",
    "    ax.set_xlim((0, 20))\n",
    "    \n",
    "    r = np.array([x[i], y[i]])\n",
    "    r /= la.norm(r)\n",
    "    \n",
    "    rr = np.array([x[i + 1], y[i + 1]])\n",
    "    rr /= la.norm(rr)\n",
    "    \n",
    "    phi = rr - r\n",
    "    phi /= la.norm(phi)\n",
    "    phi *= -1\n",
    "    \n",
    "    if scale:\n",
    "        a = np.array([0, -g])\n",
    "        a *= (3 / g)\n",
    "        ar = np.dot(a, r)\n",
    "        aphi = np.dot(a, phi)\n",
    "        r *= ar\n",
    "        phi *= aphi\n",
    "        ax.arrow(x[i], y[i], 0, -3, width = 0.15, color = 'blue', zorder = 2)\n",
    "    \n",
    "    ax.arrow(x[i], y[i], r[0], r[1], width = 0.15, color = 'orange', zorder = 2)\n",
    "    ax.arrow(x[i], y[i], phi[0], phi[1], width = 0.15, color = 'orange', zorder = 2)\n",
    "    ax.plot([x[i]], [y[i]], 'bo', zorder = 3, ms = 10)\n",
    "    ax.plot([0, x[i]], [0, y[i]], 'o--')\n",
    "    \n",
    "widgets.interact(plot, i = widgets.IntSlider(min=1, max=99, step=1, value=0),\n",
    "                scale = widgets.Checkbox(value = False, description = \"Skalowanie\"))"
   ]
  },
  {
   "cell_type": "markdown",
   "metadata": {},
   "source": [
    "W kodzie przyspieszenia zostały wyznaczone geometrycznie, poprzez rzuty wektora przyspieszenia na odpowiednie kierunki."
   ]
  },
  {
   "cell_type": "markdown",
   "metadata": {},
   "source": [
    "# Przyspieszenia radialne/transwersalne oraz styczne/normalne - porównanie"
   ]
  },
  {
   "cell_type": "code",
   "execution_count": 4,
   "metadata": {},
   "outputs": [
    {
     "data": {
      "application/vnd.jupyter.widget-view+json": {
       "model_id": "1601c1643b714fa7a8c710b401a74f82",
       "version_major": 2,
       "version_minor": 0
      },
      "text/plain": [
       "interactive(children=(IntSlider(value=1, description='i', max=99, min=1), Checkbox(value=False, description='S…"
      ]
     },
     "metadata": {},
     "output_type": "display_data"
    },
    {
     "data": {
      "text/plain": [
       "<function __main__.plot(i, scale)>"
      ]
     },
     "execution_count": 4,
     "metadata": {},
     "output_type": "execute_result"
    }
   ],
   "source": [
    "t, dt = np.linspace(0, 2, 101, retstep = True)\n",
    "g = 9.81\n",
    "\n",
    "def field(y, t):\n",
    "    x, vx, y, vy = y\n",
    "    return vx, 0, vy, -g\n",
    "\n",
    "res = integ.odeint(field, (0, 10, 0, 10), t)\n",
    "x, vx, y, vy = res[:, 0], res[:, 1], res[:, 2], res[:, 3]\n",
    "\n",
    "def plot(i, scale):\n",
    "    fig, ax = plt.subplots()\n",
    "    fig.set_size_inches((20, 10))\n",
    "    ax.set_aspect(1)\n",
    "    ax.grid(linestyle = '--')\n",
    "    ax.plot(x, y, linewidth = 2)\n",
    "    ax.set_ylim((0, 10))\n",
    "    ax.set_xlim((0, 20))\n",
    "    \n",
    "    r = np.array([x[i], y[i]])\n",
    "    r /= la.norm(r)\n",
    "    \n",
    "    rr = np.array([x[i + 1], y[i + 1]])\n",
    "    rr /= la.norm(rr)\n",
    "    \n",
    "    phi = rr - r\n",
    "    phi /= la.norm(phi)\n",
    "    phi *= -1\n",
    "    \n",
    "    if scale:\n",
    "        a = np.array([0, -g])\n",
    "        a *= (3 / g)\n",
    "        ar = np.dot(a, r)\n",
    "        aphi = np.dot(a, phi)\n",
    "        r *= ar\n",
    "        phi *= aphi\n",
    "        ax.arrow(x[i], y[i], 0, -3, width = 0.15, color = 'blue', zorder = 2)\n",
    "    \n",
    "    ax.arrow(x[i], y[i], r[0], r[1], width = 0.15, color = 'orange', zorder = 2)\n",
    "    ax.arrow(x[i], y[i], phi[0], phi[1], width = 0.15, color = 'orange', zorder = 2)\n",
    "    ax.plot([x[i]], [y[i]], 'bo', zorder = 3, ms = 10)\n",
    "    ax.plot([0, x[i]], [0, y[i]], 'o--')\n",
    "    \n",
    "    v = np.array([vx[i], vy[i]])\n",
    "    v /= la.norm(v)\n",
    "    \n",
    "    vv = np.array([vx[i + 1], vy[i + 1]])\n",
    "    vv /= la.norm(vv)\n",
    "    \n",
    "    nrm = vv - v\n",
    "    nrm /= la.norm(nrm)\n",
    "    \n",
    "    if scale:\n",
    "        a = np.array([0, -g])\n",
    "        a *= (3 / g)\n",
    "        atan = np.dot(a, v)\n",
    "        anor = np.dot(a, nrm)\n",
    "        v *= atan\n",
    "        nrm *= anor\n",
    "    \n",
    "    ax.arrow(x[i], y[i], v[0], v[1], width = 0.15, color = 'red', zorder = 2)\n",
    "    ax.arrow(x[i], y[i], nrm[0], nrm[1], width = 0.15, color = 'red', zorder = 2)\n",
    "    ax.plot([x[i]], [y[i]], 'bo', zorder = 3, ms = 10)\n",
    "    \n",
    "\n",
    "widgets.interact(plot, i = widgets.IntSlider(min=1, max=99, step=1, value=0),\n",
    "                scale = widgets.Checkbox(value = False, description = \"Skalowanie\"))"
   ]
  },
  {
   "cell_type": "code",
   "execution_count": null,
   "metadata": {},
   "outputs": [],
   "source": []
  }
 ],
 "metadata": {
  "kernelspec": {
   "display_name": "Python 3 (ipykernel)",
   "language": "python",
   "name": "python3"
  },
  "language_info": {
   "codemirror_mode": {
    "name": "ipython",
    "version": 3
   },
   "file_extension": ".py",
   "mimetype": "text/x-python",
   "name": "python",
   "nbconvert_exporter": "python",
   "pygments_lexer": "ipython3",
   "version": "3.9.7"
  }
 },
 "nbformat": 4,
 "nbformat_minor": 4
}
